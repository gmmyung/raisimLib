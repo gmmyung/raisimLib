{
 "cells": [
  {
   "cell_type": "code",
   "execution_count": 1,
   "metadata": {},
   "outputs": [],
   "source": [
    "from random import setstate\n",
    "from ruamel.yaml import YAML, dump, RoundTripDumper\n",
    "from raisimGymTorch.env.bin.rsg_anymal import RaisimGymEnv\n",
    "from raisimGymTorch.env.bin.rsg_anymal import NormalSampler\n",
    "from raisimGymTorch.env.RaisimGymVecEnv import RaisimGymVecEnv as VecEnv\n",
    "from raisimGymTorch.helper.raisim_gym_helper import ConfigurationSaver, load_param, tensorboard_launcher\n",
    "import os\n",
    "import math\n",
    "import time\n",
    "import raisimGymTorch.algo.ppo.module as ppo_module\n",
    "import raisimGymTorch.algo.ppo.ppo as PPO\n",
    "import torch.nn as nn\n",
    "import numpy as np\n",
    "import torch\n",
    "import datetime\n",
    "import argparse\n",
    "from model import Model"
   ]
  },
  {
   "cell_type": "code",
   "execution_count": 2,
   "metadata": {},
   "outputs": [],
   "source": [
    "\n",
    "# directories\n",
    "task_path = os.path.dirname(os.path.realpath(\"/home/audrud/raisimlib/raisimGymTorch/raisimGymTorch/env/envs/rsg_anymal/setState_test.ipynb\"))\n",
    "home_path = task_path + \"/../../../../..\"\n",
    "\n",
    "# config\n",
    "cfg = YAML().load(open(task_path + \"/cfg.yaml\", 'r'))\n",
    "\n",
    "# create environment from the configuration file\n",
    "env = VecEnv(RaisimGymEnv(home_path + \"/rsc\", dump(cfg['environment'], Dumper=RoundTripDumper)))\n"
   ]
  },
  {
   "cell_type": "code",
   "execution_count": 3,
   "metadata": {},
   "outputs": [],
   "source": [
    "env.turn_on_visualization()"
   ]
  },
  {
   "cell_type": "code",
   "execution_count": 5,
   "metadata": {},
   "outputs": [],
   "source": [
    "dummy_state = np.zeros((env.num_envs, env.num_obs), dtype=np.float32)\n",
    "\n",
    "b = 0\n",
    "c = np.pi / 2\n",
    "\n",
    "dummy_state[:,1] = -np.sin(b)\n",
    "dummy_state[:,2] = np.cos(b) * np.sin(c)\n",
    "dummy_state[:,3] = np.cos(b) * np.cos(c)\n",
    "\n",
    "env.setState(dummy_state)"
   ]
  },
  {
   "cell_type": "code",
   "execution_count": null,
   "metadata": {},
   "outputs": [],
   "source": []
  }
 ],
 "metadata": {
  "kernelspec": {
   "display_name": "Python 3.9.13 ('raisim')",
   "language": "python",
   "name": "python3"
  },
  "language_info": {
   "codemirror_mode": {
    "name": "ipython",
    "version": 3
   },
   "file_extension": ".py",
   "mimetype": "text/x-python",
   "name": "python",
   "nbconvert_exporter": "python",
   "pygments_lexer": "ipython3",
   "version": "3.9.13"
  },
  "orig_nbformat": 4,
  "vscode": {
   "interpreter": {
    "hash": "5d2f01fc9fb421cefe10d47bfbd75bdc18c80c5cfe1ba0c83bdc09b919e63a28"
   }
  }
 },
 "nbformat": 4,
 "nbformat_minor": 2
}
